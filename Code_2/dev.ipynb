{
 "cells": [
  {
   "cell_type": "code",
   "execution_count": 16,
   "metadata": {},
   "outputs": [],
   "source": [
    "import numpy as np\n",
    "import math"
   ]
  },
  {
   "cell_type": "markdown",
   "metadata": {},
   "source": [
    "# Float to Spike converter\n",
    "## FP Input Neuron"
   ]
  },
  {
   "cell_type": "markdown",
   "metadata": {},
   "source": [
    "### Version 1"
   ]
  },
  {
   "cell_type": "code",
   "execution_count": 2,
   "metadata": {},
   "outputs": [
    {
     "name": "stdout",
     "output_type": "stream",
     "text": [
      "man_start:\t 20\n",
      "exponent:\t 0\n",
      "exp elim:\t 16\n",
      "T: \t\t [20.  10.   5.   2.5]\n",
      "x:\t\t 40\n",
      "α:\t\t 20\n",
      "output:\t\t 00001111\n"
     ]
    }
   ],
   "source": [
    "alpha = 17\n",
    "\n",
    "\n",
    "def fp_d2s(x, K = 8, elim = 4, w = 1, alpha = 20):\n",
    "\n",
    "\n",
    "    man_start = alpha\n",
    "    exponent = 0\n",
    "\n",
    "    while man_start > x and exponent < 2**elim - 1:\n",
    "        exponent += 1\n",
    "        man_start = man_start / 2\n",
    "\n",
    "\n",
    "    print(\"man_start:\\t\", man_start)   \n",
    "    print(\"exponent:\\t\", exponent)   \n",
    "    print(\"exp elim:\\t\", 2**elim )\n",
    "\n",
    "    T = man_start * 2* 2**(-K) * np.array([float(2 ** (K - i)) for i in range(1, K + 1)]).astype(np.float32)\n",
    "\n",
    "    print(\"T: \\t\\t\", T)\n",
    "    print(\"x:\\t\\t\", x)\n",
    "    print(\"α:\\t\\t\", alpha)\n",
    "\n",
    "    exponent = format(abs(exponent), \"b\")\n",
    "\n",
    "    while len(exponent) < elim:\n",
    "        exponent = \"0\" + exponent\n",
    "    \n",
    "    # mantessa\n",
    "    z = []\n",
    "    for t in T:\n",
    "        if t <= x:\n",
    "            x = x - t\n",
    "            z.append(\"1\")   \n",
    "        else:\n",
    "            z.append(\"0\")\n",
    "\n",
    "\n",
    "    man = ''.join(z)\n",
    "\n",
    "    return exponent + man\n",
    "\n",
    "\n",
    "print(\"output:\\t\\t\", fp_d2s(x =  40, K = 4, elim = 4))"
   ]
  },
  {
   "cell_type": "markdown",
   "metadata": {},
   "source": [
    "### version 2"
   ]
  },
  {
   "cell_type": "code",
   "execution_count": 32,
   "metadata": {},
   "outputs": [
    {
     "name": "stdout",
     "output_type": "stream",
     "text": [
      "test1:\t\t 0.25\n",
      "test2:\t\t 4.0\n",
      "test3:\t\t 0.6989700043360189\n",
      "man_start:\t 5.0\n",
      "exponent:\t 2\n",
      "exp elim:\t 16\n",
      "T: \t\t [5.    2.5   1.25  0.625]\n",
      "x:\t\t 5\n",
      "α:\t\t 20\n",
      "output:\t\t 00101000\n"
     ]
    }
   ],
   "source": [
    "alpha = 17\n",
    "\n",
    "\n",
    "def fp_d2s(x, K = 8, elim = 4, w = 1, alpha = 20):\n",
    "\n",
    "\n",
    "    man_start = alpha\n",
    "    exponent = 0\n",
    "\n",
    "    print(\"test1:\\t\\t\", x / alpha)\n",
    "    print(\"test2:\\t\\t\", 1 / (x / alpha))\n",
    "    print(\"test3:\\t\\t\", math.log10(5))\n",
    "\n",
    "\n",
    "    while man_start > x and exponent < 2**elim - 1:\n",
    "        exponent += 1\n",
    "        man_start = man_start / 2\n",
    "\n",
    "\n",
    "    print(\"man_start:\\t\", man_start)   \n",
    "    print(\"exponent:\\t\", exponent)   \n",
    "    print(\"exp elim:\\t\", 2**elim )\n",
    "\n",
    "    T = man_start * 2* 2**(-K) * np.array([float(2 ** (K - i)) for i in range(1, K + 1)]).astype(np.float32)\n",
    "\n",
    "    print(\"T: \\t\\t\", T)\n",
    "    print(\"x:\\t\\t\", x)\n",
    "    print(\"α:\\t\\t\", alpha)\n",
    "\n",
    "    exponent = format(abs(exponent), \"b\")\n",
    "\n",
    "    while len(exponent) < elim:\n",
    "        exponent = \"0\" + exponent\n",
    "    \n",
    "    # mantessa\n",
    "    z = []\n",
    "    for t in T:\n",
    "        if t <= x:\n",
    "            x = x - t\n",
    "            z.append(\"1\")   \n",
    "        else:\n",
    "            z.append(\"0\")\n",
    "\n",
    "\n",
    "    man = ''.join(z)\n",
    "\n",
    "    return exponent + man\n",
    "\n",
    "\n",
    "print(\"output:\\t\\t\", fp_d2s(x =  5, K = 4, elim = 4, alpha = 20))"
   ]
  },
  {
   "cell_type": "code",
   "execution_count": 47,
   "metadata": {},
   "outputs": [
    {
     "name": "stdout",
     "output_type": "stream",
     "text": [
      "exponent:\t 3\n",
      "test1:\t\t 0.125\n",
      "test2:\t\t 8.0\n",
      "test3:\t\t -1.4406426982957876\n"
     ]
    }
   ],
   "source": [
    "x = 2.5\n",
    "alpha = 20\n",
    "exponent = 0\n",
    "elim = 4\n",
    "man_start = alpha\n",
    "\n",
    "while man_start > x and exponent < 2**elim - 1:\n",
    "    exponent += 1\n",
    "    man_start = man_start / 2\n",
    "\n",
    "  \n",
    "print(\"exponent:\\t\", exponent) \n",
    "\n",
    "print(\"test1:\\t\\t\", x / alpha)\n",
    "print(\"test2:\\t\\t\", 1 / (x / alpha))\n",
    "print(\"test3:\\t\\t\", math.log(alpha, x / alpha))"
   ]
  },
  {
   "cell_type": "markdown",
   "metadata": {},
   "source": [
    "# Spike to Decimal Converter"
   ]
  },
  {
   "cell_type": "markdown",
   "metadata": {},
   "source": [
    "### version 2"
   ]
  },
  {
   "cell_type": "code",
   "execution_count": 3,
   "metadata": {},
   "outputs": [
    {
     "name": "stdout",
     "output_type": "stream",
     "text": [
      "exp : 0\n",
      "man : ['1', '1', '1', '1']\n",
      "man_start:  20\n",
      "[20.  10.   5.   2.5]\n",
      "37.5\n"
     ]
    }
   ],
   "source": [
    "def fp_s2d(x, K = 8, elim = 4, w = 1, alpha = 20):\n",
    "    exp = int(x[:elim], 2)\n",
    "    man = list(x[elim:])\n",
    "\n",
    "    man_start = alpha\n",
    "\n",
    "    print(\"exp :\", exp)\n",
    "    print(\"man :\", man)\n",
    "\n",
    "    while exp > 0:\n",
    "        exp -= 1\n",
    "        man_start = man_start / 2\n",
    "        \n",
    "    print(\"man_start: \", man_start)   \n",
    "    \n",
    "    T = man_start * 2* 2**(-K) * np.array([float(2 ** (K - i)) for i in range(1, K + 1)]).astype(np.float32)\n",
    "\n",
    "    print(T)\n",
    "    # mantessa\n",
    "    z = 0\n",
    "\n",
    "    for i in range(len(man)):\n",
    "        if man[i] == \"1\":\n",
    "            z += T[i]\n",
    "\n",
    "    return z\n",
    "\n",
    "print(fp_s2d(\"00001111\", K = 4, elim = 4))"
   ]
  },
  {
   "cell_type": "code",
   "execution_count": null,
   "metadata": {},
   "outputs": [],
   "source": []
  },
  {
   "cell_type": "markdown",
   "metadata": {},
   "source": [
    "# Current Alternative\n",
    "\n",
    "main drawback is it's limit on being unable to convert input values which are either 0 or alpha-1"
   ]
  },
  {
   "cell_type": "code",
   "execution_count": null,
   "metadata": {},
   "outputs": [],
   "source": [
    "import bitarray.util as bu\n",
    "import math\n",
    "def encode(x, alpha, exp_bits, mantissa_bits):\n",
    "    # Calculate maximum mantissa value\n",
    "    max_exp = (2 ** exp_bits) - 1\n",
    "    print(max_exp)\n",
    "    # Calculate what integer equivalent of mantissa of one will be\n",
    "    mantissa_one = 2 ** mantissa_bits  #TODO function POW(2'.. check\n",
    "    print(mantissa_one)\n",
    "    # Get fraction of alpha we need to encode\n",
    "    relative_x = x / alpha\n",
    "    print(relative_x)\n",
    "    assert relative_x < 1.0\n",
    "    print(relative_x)\n",
    "    # Calculate integer exponent (will be < 1) and clamp\n",
    "    if x != 0:\n",
    "        exponent = math.ceil(math.log2(relative_x)) #TODO look into log2 and ceil\n",
    "        print(exponent)\n",
    "        exponent = max(-max_exp, min(0, exponent)) #TODO math\n",
    "        print(exponent)\n",
    "    #exponent = 0 if x == 0: else exponent = 19\n",
    "    # Calculate value this exponent will represent\n",
    "    exponent_value = 2 ** exponent\n",
    "    print(\"exponent value:\", exponent_value)\n",
    "\n",
    "\n",
    "    # Calculate floating point mantissa value\n",
    "    mantissa = relative_x / exponent_value\n",
    "    print(mantissa)\n",
    "    assert mantissa < 1.0\n",
    "    # Convert mantissa to fixed point bitarray and (negated) exponent to bitarray\n",
    "    return (bu.int2ba(round(mantissa * mantissa_one), length=mantissa_bits),\n",
    "            bu.int2ba(-exponent, length=exp_bits))\n",
    "            \n",
    "def decode(value, alpha):\n",
    "    # Calculate what integer equivalent of mantissa of one will be\n",
    "    mantissa_one = 2.0 ** len(value[0])\n",
    "    # Extract components\n",
    "    exp = bu.ba2int(value[1])\n",
    "    mantissa = bu.ba2int(value[0])\n",
    "    # Re-assemble floating point value\n",
    "    return alpha * (2.0 ** -exp) * (mantissa / mantissa_one)\n",
    "alpha = 20.0\n",
    "code = encode(19, alpha, 4, 4)\n",
    "print(code)\n",
    "print(decode(code, alpha))"
   ]
  }
 ],
 "metadata": {
  "interpreter": {
   "hash": "871cae420e0ac97b73e22653ec4b26518c260c06f0b8d9e5cdbbb45c9c5a52fb"
  },
  "kernelspec": {
   "display_name": "Python 3.9.4 64-bit",
   "language": "python",
   "name": "python3"
  },
  "language_info": {
   "codemirror_mode": {
    "name": "ipython",
    "version": 3
   },
   "file_extension": ".py",
   "mimetype": "text/x-python",
   "name": "python",
   "nbconvert_exporter": "python",
   "pygments_lexer": "ipython3",
   "version": "3.9.4"
  },
  "orig_nbformat": 4
 },
 "nbformat": 4,
 "nbformat_minor": 2
}

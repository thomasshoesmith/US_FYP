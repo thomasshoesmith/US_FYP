{
 "cells": [
  {
   "cell_type": "code",
   "execution_count": 3,
   "metadata": {},
   "outputs": [],
   "source": [
    "import numpy as np\n",
    "import math"
   ]
  },
  {
   "cell_type": "markdown",
   "metadata": {},
   "source": [
    "# Float to Spike converter\n",
    "## FP Input Neuron"
   ]
  },
  {
   "cell_type": "markdown",
   "metadata": {},
   "source": [
    "### Version 1"
   ]
  },
  {
   "cell_type": "code",
   "execution_count": 98,
   "metadata": {},
   "outputs": [
    {
     "name": "stdout",
     "output_type": "stream",
     "text": [
      "man_start:\t 5.0\n",
      "exponent:\t 2\n",
      "exp elim:\t 16\n",
      "T: \t\t [5.    2.5   1.25  0.625]\n",
      "x:\t\t 5\n",
      "α:\t\t 20\n",
      "output:\t\t 00101000\n"
     ]
    }
   ],
   "source": [
    "alpha = 17\n",
    "\n",
    "\n",
    "def fp_d2s(x, K = 8, elim = 4, w = 1, alpha = 20):\n",
    "\n",
    "\n",
    "    man_start = alpha\n",
    "    exponent = 0\n",
    "\n",
    "    while man_start > x and exponent < 2**elim - 1:\n",
    "        exponent += 1\n",
    "        man_start = man_start / 2\n",
    "\n",
    "\n",
    "    print(\"man_start:\\t\", man_start)   \n",
    "    print(\"exponent:\\t\", exponent)   \n",
    "    print(\"exp elim:\\t\", 2**elim )\n",
    "\n",
    "    T = man_start * 2* 2**(-K) * np.array([float(2 ** (K - i)) for i in range(1, K + 1)]).astype(np.float32)\n",
    "\n",
    "    print(\"T: \\t\\t\", T)\n",
    "    print(\"x:\\t\\t\", x)\n",
    "    print(\"α:\\t\\t\", alpha)\n",
    "\n",
    "    exponent = format(abs(exponent), \"b\")\n",
    "\n",
    "    while len(exponent) < elim:\n",
    "        exponent = \"0\" + exponent\n",
    "    \n",
    "    # mantessa\n",
    "    z = []\n",
    "    for t in T:\n",
    "        if t <= x:\n",
    "            x = x - t\n",
    "            z.append(\"1\")   \n",
    "        else:\n",
    "            z.append(\"0\")\n",
    "\n",
    "\n",
    "    man = ''.join(z)\n",
    "\n",
    "    return exponent + man\n",
    "\n",
    "\n",
    "print(\"output:\\t\\t\", fp_d2s(x =  5, K = 4, elim = 4))"
   ]
  },
  {
   "cell_type": "markdown",
   "metadata": {},
   "source": [
    "### version 2"
   ]
  },
  {
   "cell_type": "code",
   "execution_count": 4,
   "metadata": {},
   "outputs": [
    {
     "name": "stdout",
     "output_type": "stream",
     "text": [
      "[0. 0. 0. 0. 0. 0.] [2. 2. 0. 0.]\n",
      "output:\t\t [0. 0. 1. 0. 1. 0. 0. 0. 0. 0.]\n"
     ]
    }
   ],
   "source": [
    "alpha = 17\n",
    "\n",
    "\n",
    "def fp_d2s(x, K = 8, elim = 4, w = 1, alpha = 20):\n",
    "    t = 0 #current time step\n",
    "    vM = np.zeros(K) #voltage of mantessa output\n",
    "    vE = np.zeros(elim) #voltage of exponent output\n",
    "    z = np.zeros(K+elim)\n",
    "\n",
    "    man_start = alpha * 2** - min((2**elim - 1), max(0, math.ceil(math.log2(1 /(x / alpha)))))\n",
    "\n",
    "    exponent = min((2**elim - 1), max(0, math.ceil(math.log2(1 /(x / alpha)))))\n",
    "\n",
    "    m = man_start * 2* 2**(-K) * np.array([float(2 ** (K - i)) for i in range(1, K + 1)]).astype(np.float32)\n",
    "    e = 16 * 2**(-elim) * np.array([float(2 ** (elim - i)) for i in range(1, elim + 1)]).astype(np.float32)\n",
    "\n",
    "    vE[0] = exponent\n",
    "    vM[0] = x\n",
    "\n",
    "    # TODO  combine different voltages into 1 i.e. [e.0.0.0.m.0.0.0.0.0]...\n",
    "    # ... rather than have them seperate\n",
    "    while t < K + elim:\n",
    "        #for calculating exponent\n",
    "        if t < elim:\n",
    "            if vE[t] >= e[t]:\n",
    "                z[t] = 1\n",
    "                vE[t] = vE[t] - e[t]  \n",
    "\n",
    "            # copy over value once reduced.\n",
    "            if t + 1 < elim:\n",
    "                vE[t + 1] =  vE[t] # no need to reduce further as this has already been shortened.\n",
    "\n",
    "        #for calculating mantessa\n",
    "        else:\n",
    "            if vM[t - elim] >= m[t - elim]:\n",
    "                z[t] = 1\n",
    "                vM[t - elim] = vM[t - elim] - m[t - elim]  \n",
    "\n",
    "            # copy over value once reduced.\n",
    "            if t + 1 < K + elim:\n",
    "                vM[t - elim + 1] =  vM[t - elim] # no need to reduce further as this has already been shortened.\n",
    "    \n",
    "        t += 1\n",
    "    \n",
    "    return z\n",
    "\n",
    "print(\"output:\\t\\t\", str(fp_d2s(x =  5, K = 6, elim = 4, alpha = 20)))\n"
   ]
  },
  {
   "cell_type": "markdown",
   "metadata": {},
   "source": [
    "### Version 3   \n"
   ]
  },
  {
   "cell_type": "code",
   "execution_count": 68,
   "metadata": {},
   "outputs": [
    {
     "name": "stdout",
     "output_type": "stream",
     "text": [
      "2.5\n",
      "output:\t\t [0. 0. 1. 1. 1. 1. 0. 0.]\n"
     ]
    }
   ],
   "source": [
    "alpha = 20\n",
    "\n",
    "def fp_d2s(x, K = 8, elim = 4, w = 1, alpha = 20):\n",
    "    # current timestep\n",
    "    t = 0 \n",
    "    # membrane voltage\n",
    "    v = np.zeros(K + elim) \n",
    "    # output spike train\n",
    "    z = np.zeros(K + elim)\n",
    "\n",
    "    # starting value for the mantessa scale\n",
    "    man_start = alpha * 2** - min((2**elim - 1), max(0, math.ceil(math.log2(1 /(x / alpha)))))\n",
    "    print(man_start)\n",
    "    # the integer exponent value\n",
    "    exponent = min((2**elim - 1), max(0, math.ceil(math.log2(1 /(x / alpha)))))\n",
    "    # mantessa scale, starting at mantessa start\n",
    "    m = man_start * 2* 2**(-K) * np.array([float(2 ** (K - i)) for i in range(1, K + 1)]).astype(np.float32)\n",
    "    # exponent scale, dependend on length of elim\n",
    "    e = 16 * 2**(-elim) * np.array([float(2 ** (elim - i)) for i in range(1, elim + 1)]).astype(np.float32)\n",
    "\n",
    "    # placing the values of exponent and mantessa into output train\n",
    "    v[0] = exponent\n",
    "    v[elim] = x\n",
    "\n",
    "\n",
    "    while t < K + elim:\n",
    "        #for calculating exponent\n",
    "        if t < elim:\n",
    "            if v[t] >= e[t]:\n",
    "                z[t] = 1\n",
    "                v[t] = v[t] - e[t]  \n",
    "\n",
    "            # copy over value once reduced.\n",
    "            if t + 1 < elim:\n",
    "                v[t + 1] =  v[t] # no need to reduce further as this has already been shortened.\n",
    "\n",
    "        #for calculating mantessa\n",
    "        else:\n",
    "            if v[t] >= m[t - elim]:\n",
    "                z[t] = 1\n",
    "                v[t] = v[t] - m[t - elim]  \n",
    "\n",
    "            # copy over value once reduced.\n",
    "            if t + 1 < K + elim:\n",
    "                v[t + 1] =  v[t] # no need to reduce further as this has already been shortened.\n",
    "    \n",
    "        t += 1\n",
    "\n",
    "    \n",
    "    return z\n",
    "\n",
    "print(\"output:\\t\\t\", str(fp_d2s(x =  4, K = 4, elim = 4, alpha = 20)))\n"
   ]
  },
  {
   "cell_type": "code",
   "execution_count": 110,
   "metadata": {},
   "outputs": [
    {
     "data": {
      "text/plain": [
       "'0010100000'"
      ]
     },
     "execution_count": 110,
     "metadata": {},
     "output_type": "execute_result"
    }
   ],
   "source": [
    "def narray_to_string(array):\n",
    "    string = \"\"\n",
    "    for i in range(len(array)):\n",
    "        string = string + str(int(array[i]))\n",
    "    return string\n",
    "\n",
    "narray_to_string(fp_d2s(x =  5, K = 6, elim = 4, alpha = 20))"
   ]
  },
  {
   "cell_type": "markdown",
   "metadata": {},
   "source": [
    "# Dev 101\n",
    "### creating a single step (no loop) exponent value and starting value (for scalar pipeline)"
   ]
  },
  {
   "cell_type": "code",
   "execution_count": 71,
   "metadata": {},
   "outputs": [
    {
     "name": "stdout",
     "output_type": "stream",
     "text": [
      "origianl start:\t 1.25\n",
      "exponent actual: 4\n",
      "\n",
      "test 1:\t\t 4\n",
      "test 2:\t\t 1.25\n"
     ]
    }
   ],
   "source": [
    "x = 2.3\n",
    "alpha = 20\n",
    "exponent = 0\n",
    "elim = 4\n",
    "man_start = alpha\n",
    "\n",
    "while man_start > x and exponent < 2**elim - 1:\n",
    "    exponent += 1\n",
    "    man_start = man_start / 2\n",
    "\n",
    "print(\"origianl start:\\t\", man_start)\n",
    "  \n",
    "print(\"exponent actual:\", exponent) \n",
    "\n",
    "# min (exponent limit, ceil of log2 of the number of divisions that can fit in alpha)\n",
    "print(\"\\ntest 1:\\t\\t\", min((2**elim - 1), max(0, math.ceil(math.log2(1 /(x / alpha))))))\n",
    "\n",
    "# alpha * (factor of multiplicaton i.e. x = 7, start should be 5, therefore 20(alpha) * 0.25...\n",
    "# ... which is achieved with 2 ^ - exponent)\n",
    "\n",
    "print(\"test 2:\\t\\t\", alpha * 2** - min((2**elim - 1), max(0, math.ceil(math.log2(1 /(x / alpha))))))"
   ]
  },
  {
   "cell_type": "markdown",
   "metadata": {},
   "source": [
    "# Spike to Decimal Converter"
   ]
  },
  {
   "cell_type": "markdown",
   "metadata": {},
   "source": [
    "### version 2"
   ]
  },
  {
   "cell_type": "code",
   "execution_count": 111,
   "metadata": {},
   "outputs": [
    {
     "name": "stdout",
     "output_type": "stream",
     "text": [
      "exp : 2\n",
      "man : ['1', '0', '0', '0', '0', '0']\n",
      "man_start:  5.0\n",
      "[5.      2.5     1.25    0.625   0.3125  0.15625]\n",
      "5.0\n"
     ]
    }
   ],
   "source": [
    "def fp_s2d(x, K = 8, elim = 4, w = 1, alpha = 20):\n",
    "    exp = int(x[:elim], 2)\n",
    "    man = list(x[elim:])\n",
    "\n",
    "    man_start = alpha\n",
    "\n",
    "    print(\"exp :\", exp)\n",
    "    print(\"man :\", man)\n",
    "\n",
    "    while exp > 0:\n",
    "        exp -= 1\n",
    "        man_start = man_start / 2\n",
    "        \n",
    "    print(\"man_start: \", man_start)   \n",
    "    \n",
    "    T = man_start * 2* 2**(-K) * np.array([float(2 ** (K - i)) for i in range(1, K + 1)]).astype(np.float32)\n",
    "\n",
    "    print(T)\n",
    "    # mantessa\n",
    "    z = 0\n",
    "\n",
    "    for i in range(len(man)):\n",
    "        if man[i] == \"1\":\n",
    "            z += T[i]\n",
    "\n",
    "    return z\n",
    "\n",
    "print(fp_s2d(\"0010100000\", K = 6, elim = 4))"
   ]
  },
  {
   "cell_type": "code",
   "execution_count": null,
   "metadata": {},
   "outputs": [],
   "source": []
  },
  {
   "cell_type": "markdown",
   "metadata": {},
   "source": [
    "# Current Alternative\n",
    "\n",
    "main drawback is it's limit on being unable to convert input values which are either 0 or alpha-1"
   ]
  },
  {
   "cell_type": "code",
   "execution_count": null,
   "metadata": {},
   "outputs": [],
   "source": [
    "import bitarray.util as bu\n",
    "import math\n",
    "def encode(x, alpha, exp_bits, mantissa_bits):\n",
    "    # Calculate maximum mantissa value\n",
    "    max_exp = (2 ** exp_bits) - 1\n",
    "    print(max_exp)\n",
    "    # Calculate what integer equivalent of mantissa of one will be\n",
    "    mantissa_one = 2 ** mantissa_bits  #TODO function POW(2'.. check\n",
    "    print(mantissa_one)\n",
    "    # Get fraction of alpha we need to encode\n",
    "    relative_x = x / alpha\n",
    "    print(relative_x)\n",
    "    assert relative_x < 1.0\n",
    "    print(relative_x)\n",
    "    # Calculate integer exponent (will be < 1) and clamp\n",
    "    if x != 0:\n",
    "        exponent = math.ceil(math.log2(relative_x)) #TODO look into log2 and ceil\n",
    "        print(exponent)\n",
    "        exponent = max(-max_exp, min(0, exponent)) #TODO math\n",
    "        print(exponent)\n",
    "    #exponent = 0 if x == 0: else exponent = 19\n",
    "    # Calculate value this exponent will represent\n",
    "    exponent_value = 2 ** exponent\n",
    "    print(\"exponent value:\", exponent_value)\n",
    "\n",
    "\n",
    "    # Calculate floating point mantissa value\n",
    "    mantissa = relative_x / exponent_value\n",
    "    print(mantissa)\n",
    "    assert mantissa < 1.0\n",
    "    # Convert mantissa to fixed point bitarray and (negated) exponent to bitarray\n",
    "    return (bu.int2ba(round(mantissa * mantissa_one), length=mantissa_bits),\n",
    "            bu.int2ba(-exponent, length=exp_bits))\n",
    "            \n",
    "def decode(value, alpha):\n",
    "    # Calculate what integer equivalent of mantissa of one will be\n",
    "    mantissa_one = 2.0 ** len(value[0])\n",
    "    # Extract components\n",
    "    exp = bu.ba2int(value[1])\n",
    "    mantissa = bu.ba2int(value[0])\n",
    "    # Re-assemble floating point value\n",
    "    return alpha * (2.0 ** -exp) * (mantissa / mantissa_one)\n",
    "alpha = 20.0\n",
    "code = encode(19, alpha, 4, 4)\n",
    "print(code)\n",
    "print(decode(code, alpha))"
   ]
  },
  {
   "cell_type": "markdown",
   "metadata": {},
   "source": [
    "# FS Conversion\n"
   ]
  },
  {
   "cell_type": "code",
   "execution_count": 6,
   "metadata": {},
   "outputs": [],
   "source": [
    "# Few-Spikes Neuron\n",
    "# x = input \n",
    "# K = timesteps K = 1, ... t \n",
    "# α = value representation range (cap)\n",
    "\n",
    "def fs(x, K = 8, alpha = 20):\n",
    "    t = 0\n",
    "    fx = 0\n",
    "    v =  np.zeros(K)\n",
    "    z = np.zeros(K) \n",
    "\n",
    "    T = alpha * 2**(-K) * np.array([float(2 ** (K - i)) for i in range(1, K + 1)]).astype(np.float32)\n",
    "    h = alpha * 2**(-K) * np.array([float(2 ** (K - i)) for i in range(1, K + 1)]).astype(np.float32)\n",
    "    d = alpha * 2**(-K) * np.array([float(2 ** (K - i)) for i in range(1, K + 1)]).astype(np.float32)\n",
    "\n",
    "    print(h)\n",
    "\n",
    "    v[0] = x\n",
    "\n",
    "    while t < K:         \n",
    "        # spike if voltage > threshold, reset if spike.\n",
    "        if v[t] >= T[t]:\n",
    "            z[t] = 1\n",
    "            v[t] = v[t] - h[t]  \n",
    "\n",
    "        # copy over value once reduced.\n",
    "        if t + 1 < K:\n",
    "            v[t + 1] =  v[t] # no need to reduce further as this has already been shortened.\n",
    "\n",
    "        # sum voltage if spike\n",
    "        fx += z[t] * h[t] #* 0.5\n",
    "        t += 1\n",
    "\n",
    "    return z, fx # outputs tuple of spike train and sum (sum for configuration)"
   ]
  },
  {
   "cell_type": "code",
   "execution_count": 16,
   "metadata": {},
   "outputs": [
    {
     "name": "stdout",
     "output_type": "stream",
     "text": [
      "[10.        5.        2.5       1.25      0.625     0.3125    0.15625\n",
      "  0.078125]\n",
      "(array([1., 1., 0., 1., 1., 0., 0., 1.]), 16.953125)\n"
     ]
    }
   ],
   "source": [
    "print(fs(17.0))"
   ]
  },
  {
   "cell_type": "markdown",
   "metadata": {},
   "source": [
    "### Current method for FS"
   ]
  },
  {
   "cell_type": "code",
   "execution_count": 70,
   "metadata": {},
   "outputs": [
    {
     "name": "stdout",
     "output_type": "stream",
     "text": [
      "0.00390625\n",
      "0.078125\n"
     ]
    }
   ],
   "source": [
    "\n",
    "fun = lambda pars, dt: pars[1] * 2**(-pars[0])\n",
    "\n",
    "print(2**(-8))\n",
    "\n",
    "print(fun((8.0, 20.0), 2))"
   ]
  },
  {
   "cell_type": "markdown",
   "metadata": {},
   "source": [
    "### Dev method for FP"
   ]
  },
  {
   "cell_type": "code",
   "execution_count": 65,
   "metadata": {},
   "outputs": [
    {
     "name": "stdout",
     "output_type": "stream",
     "text": [
      "x / alpha                                                                     : 0.35\n",
      "log (x / alpha)                                                               : 1.5145731728297582\n",
      "math.ceil(math.log2(1 /(x / alpha))                                           : 2\n",
      "max(0, math.ceil(math.log2(1 /(x / alpha))))                                  : 2\n",
      "2**elim - 1                                                                   : 15.0\n",
      "min((2**elim - 1), max(0, math.ceil(math.log2(1 /(x / alpha))))):             : 2\n",
      "alpha * 2**                                                                   :\n",
      "alpha * 2** - min((2**elim - 1), max(0, math.ceil(math.log2(1 /(x / alpha))))): 5.0\n",
      "640.0\n"
     ]
    }
   ],
   "source": [
    "\"\"\"\n",
    "derived_params=[(\"mantissa_scale\", create_dpf_class(lambda pars, dt: pars[1] * 2 ** -fminf((2** pars[2] - 1), fmaxf(0.0, ceil(log2(1 / ( input / pars[1]))))) * 2 * 2**(-pars[0]))),\n",
    "                (\"exponent_scale\", create_dpf_class(lambda pars, dt: 16.0 * 2 ** ( - pars[2])))], #TODO pars[0] = K, pars[1] = Alpha\n",
    "\n",
    "5.0\n",
    "[5.    2.5   1.25  0.625] <- m\n",
    "output:\t\t [0. 0. 1. 0. 1. 0. 1. 1.]\n",
    "\n",
    "\"\"\"\n",
    "K, alpha, elim, x = 8, 20, 4, 7\n",
    "\n",
    "K = 4.0         #pars[0]\n",
    "alpha = 20.0    #pars[1]\n",
    "elim = 4.0      #pars[2]\n",
    "input = 7       #pars[3]\n",
    "\n",
    "print(\"x / alpha                                                                     :\", x / alpha)\n",
    "print(\"log (x / alpha)                                                               :\", math.log2(1 /(x / alpha)))\n",
    "print(\"math.ceil(math.log2(1 /(x / alpha))                                           :\", math.ceil(math.log2(1 /(x / alpha))))\n",
    "print(\"max(0, math.ceil(math.log2(1 /(x / alpha))))                                  :\", max(0, math.ceil(math.log2(1 /(x / alpha)))))\n",
    "print(\"2**elim - 1                                                                   :\", 2**elim - 1)\n",
    "print(\"min((2**elim - 1), max(0, math.ceil(math.log2(1 /(x / alpha))))):             :\", min((2**elim - 1), max(0, math.ceil(math.log2(1 /(x / alpha))))))\n",
    "print(\"alpha * 2**                                                                   :\")\n",
    "print(\"alpha * 2** - min((2**elim - 1), max(0, math.ceil(math.log2(1 /(x / alpha))))):\", alpha * 2** - min((2**elim - 1), max(0, math.ceil(math.log2(1 /(x / alpha))))))\n",
    "\n",
    "man_start = alpha * 2** - min((2**elim - 1), max(0, math.ceil(math.log2(1 /(x / alpha)))))\n",
    "\n",
    "\n",
    "#mantissa_scale = lambda pars, dt: pars[1] * 2**(-pars[0])\n",
    "mantissa_scale = lambda pars, dt: pars[1] * 2** - min((2**pars[2] - 1), max(0, math.ceil(math.log2(1 /(pars[3] / pars[1])))))\n",
    "\n",
    "print(mantissa_scale([8.0, 20.0, 4.0, 7.0], 2) * 128)\n",
    "\n",
    "#print(man_start)"
   ]
  },
  {
   "cell_type": "code",
   "execution_count": 73,
   "metadata": {},
   "outputs": [
    {
     "data": {
      "text/plain": [
       "6.276672783174006"
      ]
     },
     "execution_count": 73,
     "metadata": {},
     "output_type": "execute_result"
    }
   ],
   "source": [
    "(2**(-x / alpha))"
   ]
  },
  {
   "cell_type": "code",
   "execution_count": 79,
   "metadata": {},
   "outputs": [
    {
     "data": {
      "text/plain": [
       "5.0"
      ]
     },
     "execution_count": 79,
     "metadata": {},
     "output_type": "execute_result"
    }
   ],
   "source": [
    "10 * 2**(-8)"
   ]
  },
  {
   "cell_type": "code",
   "execution_count": null,
   "metadata": {},
   "outputs": [],
   "source": []
  }
 ],
 "metadata": {
  "interpreter": {
   "hash": "871cae420e0ac97b73e22653ec4b26518c260c06f0b8d9e5cdbbb45c9c5a52fb"
  },
  "kernelspec": {
   "display_name": "Python 3.9.4 64-bit",
   "language": "python",
   "name": "python3"
  },
  "language_info": {
   "codemirror_mode": {
    "name": "ipython",
    "version": 3
   },
   "file_extension": ".py",
   "mimetype": "text/x-python",
   "name": "python",
   "nbconvert_exporter": "python",
   "pygments_lexer": "ipython3",
   "version": "3.9.4"
  },
  "orig_nbformat": 4
 },
 "nbformat": 4,
 "nbformat_minor": 2
}
